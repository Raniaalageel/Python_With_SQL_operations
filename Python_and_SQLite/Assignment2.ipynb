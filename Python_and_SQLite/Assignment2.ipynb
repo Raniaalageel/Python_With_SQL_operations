{
 "cells": [
  {
   "cell_type": "code",
   "execution_count": 1748,
   "metadata": {},
   "outputs": [],
   "source": [
    "# Task (1)"
   ]
  },
  {
   "cell_type": "code",
   "execution_count": 1749,
   "metadata": {},
   "outputs": [
    {
     "name": "stdout",
     "output_type": "stream",
     "text": [
      "My name is Rania Alageel and I am Software Engineering \t\t\t\t\t \t\t\t\t\t\n"
     ]
    }
   ],
   "source": [
    "# format() method is a powerful tool that allows to create formatted strings\n",
    "name = \"Rania Alageel\"\n",
    "major = \"Software Engineering\"\n",
    "message = \"My name is {0} and I am {1} \\\n",
    "\t\t\t\t\t \\\n",
    "\t\t\t\t\t\".format(name, major)\n",
    "print(message)\n"
   ]
  },
  {
   "cell_type": "code",
   "execution_count": 1750,
   "metadata": {},
   "outputs": [
    {
     "name": "stdout",
     "output_type": "stream",
     "text": [
      "Rania-Khalid-Alageel\n"
     ]
    }
   ],
   "source": [
    "# join() method that takes all items in an iterable and joins them into one string \n",
    "\n",
    "myText =  (\"Rania\" , \"Khalid\" , \"Alageel\")\n",
    "\n",
    "joinTheText = \"-\".join(myText)\n",
    "\n",
    "print(joinTheText)"
   ]
  },
  {
   "cell_type": "code",
   "execution_count": 1751,
   "metadata": {},
   "outputs": [
    {
     "name": "stdout",
     "output_type": "stream",
     "text": [
      "My name is Rania\n",
      "My name is Rania\n"
     ]
    }
   ],
   "source": [
    "# strip() method is removes any whitespaces or characters at the beginning and end of the string \n",
    "\n",
    "text = \"       Rania         \"\n",
    "\n",
    "stripTheText = text.strip()\n",
    "\n",
    "print(\"My name is\", stripTheText)\n",
    "\n",
    "# ----------------------------------\n",
    "\n",
    "text2 = \"*********Rania*********\"\n",
    "\n",
    "stripTheText2 = text2.strip(\"*\")\n",
    "\n",
    "print(\"My name is\", stripTheText2)\n",
    "\n"
   ]
  },
  {
   "cell_type": "code",
   "execution_count": 1752,
   "metadata": {},
   "outputs": [
    {
     "name": "stdout",
     "output_type": "stream",
     "text": [
      "R\n",
      "a\n",
      "n\n",
      "i\n",
      "a\n"
     ]
    }
   ],
   "source": [
    "#  (For) Loop to read data and print each data on line \n",
    "\n",
    "name = \"Rania\"\n",
    "\n",
    "for letters in name:\n",
    "    print(letters)"
   ]
  },
  {
   "cell_type": "code",
   "execution_count": 1753,
   "metadata": {},
   "outputs": [
    {
     "name": "stdout",
     "output_type": "stream",
     "text": [
      "[4, 16, 36, 64, 100]\n"
     ]
    }
   ],
   "source": [
    "# List comprehension provides a much more short syntax for creating a new list based on the values of an existing list.\n",
    "\n",
    "numbers = [2, 4, 6, 8, 10]\n",
    "squared = [x ** 2 for x in numbers]\n",
    "print(squared)\n"
   ]
  },
  {
   "cell_type": "code",
   "execution_count": 1754,
   "metadata": {},
   "outputs": [
    {
     "name": "stdout",
     "output_type": "stream",
     "text": [
      "{'Rania': 2, 'Khalid': 4, 'Alageel': 6}\n"
     ]
    }
   ],
   "source": [
    "# Dictionary comprehension is a method for transforming one dictionary into another dictionary. \n",
    "\n",
    "dict1 = {'Rania': 1, 'Khalid': 2, 'Alageel': 3}\n",
    "# Double each value in the dictionary\n",
    "double_dict1 = {k:v*2 for (k,v) in dict1.items()}\n",
    "print(double_dict1)\n"
   ]
  },
  {
   "cell_type": "code",
   "execution_count": 1755,
   "metadata": {},
   "outputs": [
    {
     "data": {
      "text/plain": [
       "12"
      ]
     },
     "execution_count": 1755,
     "metadata": {},
     "output_type": "execute_result"
    }
   ],
   "source": [
    "# Lambda functions are efficient whenever you want to create a function that will only contain simple expressions\n",
    "\n",
    "(lambda x : x * 3)(4)\n"
   ]
  },
  {
   "cell_type": "code",
   "execution_count": 1756,
   "metadata": {},
   "outputs": [
    {
     "data": {
      "text/html": [
       "<div>\n",
       "<style scoped>\n",
       "    .dataframe tbody tr th:only-of-type {\n",
       "        vertical-align: middle;\n",
       "    }\n",
       "\n",
       "    .dataframe tbody tr th {\n",
       "        vertical-align: top;\n",
       "    }\n",
       "\n",
       "    .dataframe thead th {\n",
       "        text-align: right;\n",
       "    }\n",
       "</style>\n",
       "<table border=\"1\" class=\"dataframe\">\n",
       "  <thead>\n",
       "    <tr style=\"text-align: right;\">\n",
       "      <th></th>\n",
       "      <th>LatD</th>\n",
       "      <th>\"LatM\"</th>\n",
       "      <th>\"LatS\"</th>\n",
       "      <th>\"NS\"</th>\n",
       "      <th>\"LonD\"</th>\n",
       "      <th>\"LonM\"</th>\n",
       "      <th>\"LonS\"</th>\n",
       "      <th>\"EW\"</th>\n",
       "      <th>\"City\"</th>\n",
       "      <th>\"State\"</th>\n",
       "    </tr>\n",
       "  </thead>\n",
       "  <tbody>\n",
       "    <tr>\n",
       "      <th>0</th>\n",
       "      <td>41</td>\n",
       "      <td>5</td>\n",
       "      <td>59</td>\n",
       "      <td>\"N\"</td>\n",
       "      <td>80</td>\n",
       "      <td>39</td>\n",
       "      <td>0</td>\n",
       "      <td>\"W\"</td>\n",
       "      <td>\"Youngstown\"</td>\n",
       "      <td>OH</td>\n",
       "    </tr>\n",
       "    <tr>\n",
       "      <th>1</th>\n",
       "      <td>42</td>\n",
       "      <td>52</td>\n",
       "      <td>48</td>\n",
       "      <td>\"N\"</td>\n",
       "      <td>97</td>\n",
       "      <td>23</td>\n",
       "      <td>23</td>\n",
       "      <td>\"W\"</td>\n",
       "      <td>\"Yankton\"</td>\n",
       "      <td>SD</td>\n",
       "    </tr>\n",
       "    <tr>\n",
       "      <th>2</th>\n",
       "      <td>46</td>\n",
       "      <td>35</td>\n",
       "      <td>59</td>\n",
       "      <td>\"N\"</td>\n",
       "      <td>120</td>\n",
       "      <td>30</td>\n",
       "      <td>36</td>\n",
       "      <td>\"W\"</td>\n",
       "      <td>\"Yakima\"</td>\n",
       "      <td>WA</td>\n",
       "    </tr>\n",
       "    <tr>\n",
       "      <th>3</th>\n",
       "      <td>42</td>\n",
       "      <td>16</td>\n",
       "      <td>12</td>\n",
       "      <td>\"N\"</td>\n",
       "      <td>71</td>\n",
       "      <td>48</td>\n",
       "      <td>0</td>\n",
       "      <td>\"W\"</td>\n",
       "      <td>\"Worcester\"</td>\n",
       "      <td>MA</td>\n",
       "    </tr>\n",
       "    <tr>\n",
       "      <th>4</th>\n",
       "      <td>43</td>\n",
       "      <td>37</td>\n",
       "      <td>48</td>\n",
       "      <td>\"N\"</td>\n",
       "      <td>89</td>\n",
       "      <td>46</td>\n",
       "      <td>11</td>\n",
       "      <td>\"W\"</td>\n",
       "      <td>\"Wisconsin Dells\"</td>\n",
       "      <td>WI</td>\n",
       "    </tr>\n",
       "  </tbody>\n",
       "</table>\n",
       "</div>"
      ],
      "text/plain": [
       "   LatD   \"LatM\"   \"LatS\"  \"NS\"   \"LonD\"   \"LonM\"   \"LonS\"  \"EW\"   \n",
       "0    41        5       59   \"N\"       80       39        0   \"W\"  \\\n",
       "1    42       52       48   \"N\"       97       23       23   \"W\"   \n",
       "2    46       35       59   \"N\"      120       30       36   \"W\"   \n",
       "3    42       16       12   \"N\"       71       48        0   \"W\"   \n",
       "4    43       37       48   \"N\"       89       46       11   \"W\"   \n",
       "\n",
       "               \"City\"  \"State\"  \n",
       "0        \"Youngstown\"       OH  \n",
       "1           \"Yankton\"       SD  \n",
       "2            \"Yakima\"       WA  \n",
       "3         \"Worcester\"       MA  \n",
       "4   \"Wisconsin Dells\"       WI  "
      ]
     },
     "execution_count": 1756,
     "metadata": {},
     "output_type": "execute_result"
    }
   ],
   "source": [
    "# Read a csv file and load it into data frame \n",
    "\n",
    "import pandas as pd\n",
    "\n",
    "df = pd.read_csv('cities.csv')\n",
    "\n",
    "# print(df)\n",
    "df.head()"
   ]
  },
  {
   "cell_type": "code",
   "execution_count": 1757,
   "metadata": {},
   "outputs": [
    {
     "name": "stdout",
     "output_type": "stream",
     "text": [
      "                 \"City\"  \"State\"\n",
      "0          \"Youngstown\"       OH\n",
      "1             \"Yankton\"       SD\n",
      "2              \"Yakima\"       WA\n",
      "3           \"Worcester\"       MA\n",
      "4     \"Wisconsin Dells\"       WI\n",
      "..                  ...      ...\n",
      "123              \"Reno\"       NV\n",
      "124            \"Regina\"       SA\n",
      "125         \"Red Bluff\"       CA\n",
      "126           \"Reading\"       PA\n",
      "127           \"Ravenna\"      OH \n",
      "\n",
      "[128 rows x 2 columns]\n"
     ]
    }
   ],
   "source": [
    "import pandas as pd\n",
    "\n",
    "data = pd.read_csv('cities.csv')\n",
    "df = pd.DataFrame(data , columns=[' \"City\"', ' \"State\"'])\n",
    "print(df)"
   ]
  },
  {
   "cell_type": "code",
   "execution_count": 1758,
   "metadata": {},
   "outputs": [
    {
     "name": "stdout",
     "output_type": "stream",
     "text": [
      "break\n",
      "----------\n",
      "letter : R\n",
      "letter : a\n",
      "letter : n\n",
      "***************\n",
      "Continue\n",
      "----------\n",
      "letter : R\n",
      "letter : a\n",
      "letter : n\n",
      "letter : a\n"
     ]
    }
   ],
   "source": [
    "# Use Continue If you need to skip part of the current loop you are in \n",
    "# Or \n",
    "#  Use break to get out of the loop completely\n",
    "\n",
    "\n",
    "# break \n",
    "print(\"break\")\n",
    "print(\"----------\")\n",
    "for letter in 'Rania':\n",
    "    if letter == \"i\":\n",
    "        break\n",
    "    print('letter :', letter)\n",
    "\n",
    "print(\"***************\")\n",
    "\n",
    "# Continue \n",
    "print(\"Continue\")\n",
    "print(\"----------\")\n",
    "for letter in \"Rania\":\n",
    "    if letter == \"i\":\n",
    "        continue\n",
    "    print('letter :',letter)"
   ]
  },
  {
   "cell_type": "code",
   "execution_count": 1759,
   "metadata": {},
   "outputs": [
    {
     "name": "stdout",
     "output_type": "stream",
     "text": [
      "{('Rania', 3), ('Khalid', 2), ('Alageel', 1), ('Abdulrahman', 4)}\n"
     ]
    }
   ],
   "source": [
    "# zip() method takes iterable containers and returns a single iterator object, having mapped values from all the containers. \n",
    "\n",
    "name = [ \"Rania\", \"Khalid\", \"Abdulrahman\", \"Alageel\" ]\n",
    "roll_no = [ 3, 2, 4, 1 ]\n",
    "\n",
    "# using zip() to map values\n",
    "mapped = zip(name, roll_no)\n",
    "\n",
    "print(set(mapped))\n"
   ]
  },
  {
   "cell_type": "code",
   "execution_count": 1760,
   "metadata": {},
   "outputs": [
    {
     "name": "stdout",
     "output_type": "stream",
     "text": [
      "[2, 4, 6, 8, 10]\n"
     ]
    }
   ],
   "source": [
    "# map() function is used to apply a function on all elements of a specified iterable and return a map object.\n",
    "\n",
    "\n",
    "def addition(number):\n",
    "    return number+number\n",
    "\n",
    "numbers = [1,2,3,4,5]\n",
    "addition_numbers = map(addition, numbers)\n",
    "print(list(addition_numbers))\n",
    "\n",
    "\n"
   ]
  },
  {
   "cell_type": "code",
   "execution_count": 1761,
   "metadata": {},
   "outputs": [
    {
     "name": "stdout",
     "output_type": "stream",
     "text": [
      "[2, 4]\n"
     ]
    }
   ],
   "source": [
    "#  filter() function checks a condition of each element in an iterable and returns a filtered data structure only containing elements who match the given conditions.\n",
    "\n",
    "def even(number):\n",
    "    if (number % 2) == 0:\n",
    "        return True\n",
    "    return False\n",
    "\n",
    "numbers = [1,2,3,4,5]\n",
    "even_numbers = filter(even, numbers)\n",
    "print(list(even_numbers))\n"
   ]
  },
  {
   "cell_type": "code",
   "execution_count": 1762,
   "metadata": {},
   "outputs": [
    {
     "name": "stdout",
     "output_type": "stream",
     "text": [
      "I'M RANIA ALAGEEL\n",
      "i'm rania alageel\n"
     ]
    }
   ],
   "source": [
    "# Higher Order Function if it contains other functions as a parameter or returns a function as an output.\n",
    "# why we use a higher order function ? \n",
    "#  --> because it's a function can act as an instant of an object type So, we can return a function as a result of another function.\n",
    "\n",
    "def TextWithUpperLetters(text):\n",
    "\treturn text.upper()\n",
    "\t\n",
    "def TextWithLowerLetters(text):\n",
    "\treturn text.lower()\n",
    "\t\n",
    "def greet(func):\n",
    "\t# storing the function in a variable\n",
    "\tgreeting = func(\"I'm Rania Alageel\")\n",
    "\tprint(greeting)\n",
    "\t\n",
    "greet(TextWithUpperLetters)\n",
    "greet(TextWithLowerLetters)\n"
   ]
  },
  {
   "cell_type": "code",
   "execution_count": 1763,
   "metadata": {},
   "outputs": [],
   "source": [
    "#  Task (2)"
   ]
  },
  {
   "cell_type": "code",
   "execution_count": 1764,
   "metadata": {},
   "outputs": [
    {
     "name": "stdout",
     "output_type": "stream",
     "text": [
      "Month No.:  1  Year:  2023\n",
      "Check whether the said month and year contains a Monday 13th.: True\n",
      "\n",
      "Month No.:  4  Year:  2023\n",
      "Check whether the said month and year contains a Monday 13th.: False\n"
     ]
    }
   ],
   "source": [
    "# funtion in python that accept two prameters . \n",
    "# They'll both be numbers. \n",
    "# The first number will be the month as number and the second number will be the four-digit year. \n",
    "# The function should parse the prameters and return true if the month contains a friday the 13th adn false if it doesn't\n",
    "\n",
    "\n",
    "\n",
    "\n",
    "\n",
    "from datetime import date\n",
    "def test(month, year): \n",
    "    return str(date(year,month,13).strftime(\"%A\")=='Friday')\n",
    "\n",
    "month = 1\n",
    "year = 2023;            \n",
    "print(\"Month No.: \", month, \" Year: \", year)\n",
    "print(\"Check whether the said month and year contains a Monday 13th.: \" + test(month, year));\n",
    "month = 4\n",
    "year = 2023;            \n",
    "print(\"\\nMonth No.: \", month, \" Year: \", year)\n",
    "print(\"Check whether the said month and year contains a Monday 13th.: \" + test(month, year)); "
   ]
  },
  {
   "cell_type": "code",
   "execution_count": 1765,
   "metadata": {},
   "outputs": [
    {
     "name": "stdout",
     "output_type": "stream",
     "text": [
      "52616e6961\n"
     ]
    }
   ],
   "source": [
    "# Write a function in Python that accepts a string of ASCII characters. \n",
    "# It should return each character's value as a hexadecimal string. \n",
    "# Separate each byte by a space, and return all alpha hexadecimal characters as lowercase\n",
    "\n",
    "\n",
    "\n",
    "# function to convert ASCII to HEX\n",
    "def ASCIItoHEX(ascii):\n",
    "\n",
    "\t# Initialize final String\n",
    "\thexa = \"\"\n",
    "\n",
    "\t# Make a loop to iterate through\n",
    "\t# every character of ascii string\n",
    "\tfor i in range(len(ascii)):\n",
    "\n",
    "\t\t# take a char from\n",
    "\t\t# position i of string\n",
    "\t\tch = ascii[i]\n",
    "\n",
    "\t\t# cast char to integer and\n",
    "\t\t# find its ascii value\n",
    "\t\tin1 = ord(ch)\n",
    "\n",
    "\t\t# change this ascii value\n",
    "\t\t# integer to hexadecimal value\n",
    "\t\tpart = hex(in1).lstrip(\"0x\").rstrip(\"L\")\n",
    "\n",
    "\t\t# add this hexadecimal value\n",
    "\t\t# to final string.\n",
    "\t\thexa += part\n",
    "\n",
    "\t# return the final string hex\n",
    "\treturn hexa\n",
    "\n",
    "# Driver Function\n",
    "if __name__ == '__main__':\n",
    "\n",
    "\t# print the Hex String\n",
    "\tprint(ASCIItoHEX(\"Rania\"))\n",
    "\n",
    "\n"
   ]
  },
  {
   "cell_type": "code",
   "execution_count": 1766,
   "metadata": {},
   "outputs": [
    {
     "name": "stdout",
     "output_type": "stream",
     "text": [
      "The extra character is :  w\n"
     ]
    }
   ],
   "source": [
    "# Write a function in Python that accepts two string parameters. \n",
    "# The first parameter will be a string of characters, and the second parameter will be the same string of characters, but they'll be in a different order and have one extra character. \n",
    "# The function should return that extra character.\n",
    "\n",
    "\n",
    "def FindExtraChar(string1, string2):\n",
    "\t# get length of strings\n",
    "\tn1 = len(string1)\n",
    "\tn2 = len(string2)\n",
    "\n",
    "\t# iterate through the first string\n",
    "\tfor i in range(n1):\n",
    "\t\t# iterate through the second string\n",
    "\t\tfor j in range(n2):\n",
    "\t\t\t# if the current character of the first\n",
    "\t\t\t# string matches the current character of\n",
    "\t\t\t# the second string, break out of the loop\n",
    "\t\t\t# and move on to the next character in the\n",
    "\t\t\t# first string\n",
    "\t\t\tif s1[i] == s2[j]:\n",
    "\t\t\t\tbreak\n",
    "\n",
    "\t\t# if the loop finished without finding a match,\n",
    "\t\t# return the current character of the first\n",
    "\t\t# string\n",
    "\t\tif j == n2 - 1:\n",
    "\t\t\treturn s1[i]\n",
    "\n",
    "\t# if we get to this point, it means that the extra\n",
    "\t# character is at the end of the second string, so\n",
    "\t# return it\n",
    "\treturn s2[n2 - 1]\n",
    "\n",
    "\n",
    "s1 = \"Rania\"\n",
    "s2 = \"aanRiw\"\n",
    "print(\"The extra character is : \", FindExtraChar(s1, s2))\n"
   ]
  },
  {
   "cell_type": "code",
   "execution_count": 1775,
   "metadata": {},
   "outputs": [
    {
     "name": "stdout",
     "output_type": "stream",
     "text": [
      "198\n"
     ]
    }
   ],
   "source": [
    "# Write a function that accepts a number as a parameter. \n",
    "# The function should return a number that's the difference between the largest and smallest numbers that the digits can form in the number. \n",
    "# For example, if the parameter is \"213\", the function should return \"198\". which is the result of 123 subtracted from 321.\n",
    "\n",
    "def difference(num):\n",
    "    digits = [int(d) for d in str(num)]     \n",
    "    largest = int(''.join(map(str, sorted(digits, reverse=True))))     \n",
    "    smallest = int(''.join(map(str, sorted(digits))))     \n",
    "    return largest - smallest \n",
    "\n",
    "\n",
    "print(difference(213))"
   ]
  },
  {
   "cell_type": "code",
   "execution_count": 1768,
   "metadata": {},
   "outputs": [],
   "source": [
    "#  end of Task (2)"
   ]
  }
 ],
 "metadata": {
  "kernelspec": {
   "display_name": "base",
   "language": "python",
   "name": "python3"
  },
  "language_info": {
   "codemirror_mode": {
    "name": "ipython",
    "version": 3
   },
   "file_extension": ".py",
   "mimetype": "text/x-python",
   "name": "python",
   "nbconvert_exporter": "python",
   "pygments_lexer": "ipython3",
   "version": "3.8.5"
  },
  "orig_nbformat": 4
 },
 "nbformat": 4,
 "nbformat_minor": 2
}
