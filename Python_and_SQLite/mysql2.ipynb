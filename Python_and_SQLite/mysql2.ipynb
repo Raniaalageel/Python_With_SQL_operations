{
 "cells": [
  {
   "cell_type": "code",
   "execution_count": null,
   "metadata": {},
   "outputs": [],
   "source": [
    "# Task (3)\n",
    "# Using SQLite Fror the database"
   ]
  },
  {
   "cell_type": "code",
   "execution_count": 24,
   "metadata": {},
   "outputs": [],
   "source": [
    "import sqlite3\n",
    "\n",
    "connection = sqlite3.connect(\"MyDatabase.db\")"
   ]
  },
  {
   "cell_type": "code",
   "execution_count": 25,
   "metadata": {},
   "outputs": [
    {
     "name": "stdout",
     "output_type": "stream",
     "text": [
      "0\n"
     ]
    }
   ],
   "source": [
    "print(connection.total_changes)"
   ]
  },
  {
   "cell_type": "code",
   "execution_count": 26,
   "metadata": {},
   "outputs": [
    {
     "data": {
      "text/plain": [
       "<sqlite3.Cursor at 0x7fe599787960>"
      ]
     },
     "execution_count": 26,
     "metadata": {},
     "output_type": "execute_result"
    }
   ],
   "source": [
    "cursor = connection.cursor()\n",
    "cursor.execute(\"CREATE TABLE Worker (ID INT PRIMARY KEY, FIRST_NAME TEXT, LAST_NAME TEXT,DEPARTMENT TEXT,  MANAGER TEXT , SALARY INT , COMPLETE_NAME TEXT ,join_date TEXT)\")"
   ]
  },
  {
   "cell_type": "code",
   "execution_count": 27,
   "metadata": {},
   "outputs": [
    {
     "data": {
      "text/plain": [
       "<sqlite3.Cursor at 0x7fe599787960>"
      ]
     },
     "execution_count": 27,
     "metadata": {},
     "output_type": "execute_result"
    }
   ],
   "source": [
    "cursor.execute(\"INSERT INTO Worker VALUES (1,'Amitabh','Kochhar','ICT','yes',200000 , '', '2014-02-12')\")\n",
    "cursor.execute(\"INSERT INTO Worker VALUES (2,'Vipul','King','Admin','yes',150000, '', '2014-05-12')\")\n",
    "cursor.execute(\"INSERT INTO Worker VALUES (3,'Satish','Ernst','IT','no',300000, '', '2015-02-12')\")\n",
    "cursor.execute(\"INSERT INTO Worker VALUES (4,'Rania','Alageel','ICT','yes',400000, '', '2019-05-17')\")\n",
    "cursor.execute(\"INSERT INTO Worker VALUES (5,'Alexander','Hunold','Admin','yes',240000, '', '2014-02-22')\")\n",
    "cursor.execute(\"INSERT INTO Worker VALUES (6,'Bruce','Ernst','IT','no',290000, '', '2013-02-10')\")\n",
    "cursor.execute(\"INSERT INTO Worker VALUES (7,'David','Austin','ICT','no',210000, '', '2019-01-18')\")\n",
    "cursor.execute(\"INSERT INTO Worker VALUES (8,'Diana','Lorentz','stratigy','yes',200000, '', '2017-04-16')\")\n",
    "cursor.execute(\"INSERT INTO Worker VALUES (9,'Nancy','Greenberg','IT','no',900000, '', '2014-02-16')\")\n",
    "cursor.execute(\"INSERT INTO Worker VALUES (10,'Daniel','Faviet','ICT','no',10000, '', '2014-08-30')\")\n",
    "cursor.execute(\"INSERT INTO Worker VALUES (11,'John','Chen','ICT','no',240000, '', '2012-06-18')\")\n",
    "cursor.execute(\"INSERT INTO Worker VALUES (12,'Alexander','Khoo','Security','yes',500000, '', '2017-04-19')\")\n",
    "cursor.execute(\"INSERT INTO Worker VALUES (13,'Kevin','Mourgos','ICT','no',100000, '', '2014-02-01')\")\n",
    "cursor.execute(\"INSERT INTO Worker VALUES (14,'Steven','Markle','ICT','no',150000, '', '2014-08-12')\")\n",
    "cursor.execute(\"INSERT INTO Worker VALUES (15,'Steven','Markle','ICT','no',150000, '', '2014-08-12')\")"
   ]
  },
  {
   "cell_type": "code",
   "execution_count": 28,
   "metadata": {},
   "outputs": [
    {
     "name": "stdout",
     "output_type": "stream",
     "text": [
      "[('AMITABH',), ('VIPUL',), ('SATISH',), ('RANIA',), ('ALEXANDER',), ('BRUCE',), ('DAVID',), ('DIANA',), ('NANCY',), ('DANIEL',), ('JOHN',), ('ALEXANDER',), ('KEVIN',), ('STEVEN',), ('STEVEN',)]\n"
     ]
    }
   ],
   "source": [
    "# Q (1) Write an SQL query to fetch \"FIRST NAME\" from the Worker table in upper case\n",
    "rows = cursor.execute(\"SELECT UPPER(FIRST_NAME) FROM Worker\").fetchall()\n",
    "print(rows)"
   ]
  },
  {
   "cell_type": "code",
   "execution_count": 29,
   "metadata": {},
   "outputs": [
    {
     "name": "stdout",
     "output_type": "stream",
     "text": [
      "[('ICT',), ('Admin',), ('IT',), ('stratigy',), ('Security',)]\n"
     ]
    }
   ],
   "source": [
    "# Q (2) Write an SQL query to fetch unique values of DEPARTMENT from the Worker table\n",
    "rows = cursor.execute(\"SELECT distinct DEPARTMENT FROM Worker\").fetchall()\n",
    "print(rows)"
   ]
  },
  {
   "cell_type": "code",
   "execution_count": 30,
   "metadata": {},
   "outputs": [
    {
     "name": "stdout",
     "output_type": "stream",
     "text": [
      "[('Ami',), ('Vip',), ('Sat',), ('Ran',), ('Ale',), ('Bru',), ('Dav',), ('Dia',), ('Nan',), ('Dan',), ('Joh',), ('Ale',), ('Kev',), ('Ste',), ('Ste',)]\n"
     ]
    }
   ],
   "source": [
    "# Q (3) Write an SQL query to print the first three characters of FIRST NAME from the Worker table\n",
    "rows = cursor.execute(\"SELECT SUBSTRING(FIRST_NAME, 1, 3) FROM Worker\").fetchall()\n",
    "print(rows)"
   ]
  },
  {
   "cell_type": "code",
   "execution_count": 31,
   "metadata": {},
   "outputs": [
    {
     "name": "stdout",
     "output_type": "stream",
     "text": [
      "[(1,)]\n"
     ]
    }
   ],
   "source": [
    "# Q (4) Write an SQL query to find the position of the alphabet ('a') in the first name column Amitabh' from the Worker table\n",
    "rows = cursor.execute(\"SELECT INSTR(FIRST_NAME, 'A') FROM Worker WHERE FIRST_NAME = 'Amitabh'\").fetchall()\n",
    "print(rows)"
   ]
  },
  {
   "cell_type": "code",
   "execution_count": 32,
   "metadata": {},
   "outputs": [
    {
     "name": "stdout",
     "output_type": "stream",
     "text": [
      "[('Amitabh',), ('Vipul',), ('Satish',), ('Rania',), ('Alexander',), ('Bruce',), ('David',), ('Diana',), ('Nancy',), ('Daniel',), ('John',), ('Alexander',), ('Kevin',), ('Steven',), ('Steven',)]\n"
     ]
    }
   ],
   "source": [
    "# Q (5) Write an SQL query to print the FIRST_NAME from the Worker table after removing white spaces from the right side\n",
    "rows = cursor.execute(\"SELECT RTRIM(FIRST_NAME) FROM Worker\").fetchall()\n",
    "print(rows)"
   ]
  },
  {
   "cell_type": "code",
   "execution_count": 33,
   "metadata": {},
   "outputs": [
    {
     "name": "stdout",
     "output_type": "stream",
     "text": [
      "[('ICT',), ('Admin',), ('IT',), ('ICT',), ('Admin',), ('IT',), ('ICT',), ('stratigy',), ('IT',), ('ICT',), ('ICT',), ('Security',), ('ICT',), ('ICT',), ('ICT',)]\n"
     ]
    }
   ],
   "source": [
    "# Q (6) Write an SQL query that fetches the unique values of DEPARTMENT from the Worker table and prints its length\n",
    "rows = cursor.execute(\"SELECT LTRIM(DEPARTMENT) FROM Worker\").fetchall()\n",
    "print(rows)"
   ]
  },
  {
   "cell_type": "code",
   "execution_count": 34,
   "metadata": {},
   "outputs": [
    {
     "name": "stdout",
     "output_type": "stream",
     "text": [
      "[('AmitAbh',), ('Vipul',), ('SAtish',), ('RAniA',), ('AlexAnder',), ('Bruce',), ('DAvid',), ('DiAnA',), ('NAncy',), ('DAniel',), ('John',), ('AlexAnder',), ('Kevin',), ('Steven',), ('Steven',)]\n"
     ]
    }
   ],
   "source": [
    "# Q (7) Write an SQL query to print the FIRST NAME from the Worker table after replacing 'a' with 'A'\n",
    "rows = cursor.execute(\"SELECT REPLACE(FIRST_NAME, 'a', 'A') FROM Worker\").fetchall()\n",
    "print(rows)"
   ]
  },
  {
   "cell_type": "code",
   "execution_count": 35,
   "metadata": {},
   "outputs": [
    {
     "name": "stdout",
     "output_type": "stream",
     "text": [
      "[('Amitabh Kochhar',), ('Vipul King',), ('Satish Ernst',), ('Rania Alageel',), ('Alexander Hunold',), ('Bruce Ernst',), ('David Austin',), ('Diana Lorentz',), ('Nancy Greenberg',), ('Daniel Faviet',), ('John Chen',), ('Alexander Khoo',), ('Kevin Mourgos',), ('Steven Markle',), ('Steven Markle',)]\n"
     ]
    }
   ],
   "source": [
    "# Q (8) Write an SQL query to print the FIRST NAME and LAST NAME from the Worker table into a single column COMPLETE NAME. A space char should separate them\n",
    "rows = cursor.execute(\"SELECT COMPLETE_NAME || FIRST_NAME || ' ' || LAST_NAME FROM Worker\").fetchall()\n",
    "print(rows)\n"
   ]
  },
  {
   "cell_type": "code",
   "execution_count": 36,
   "metadata": {},
   "outputs": [
    {
     "name": "stdout",
     "output_type": "stream",
     "text": [
      "[(12, 'Alexander', 'Khoo', 'Security', 'yes', 500000, '', '2017-04-19'), (5, 'Alexander', 'Hunold', 'Admin', 'yes', 240000, '', '2014-02-22'), (1, 'Amitabh', 'Kochhar', 'ICT', 'yes', 200000, '', '2014-02-12'), (6, 'Bruce', 'Ernst', 'IT', 'no', 290000, '', '2013-02-10'), (10, 'Daniel', 'Faviet', 'ICT', 'no', 10000, '', '2014-08-30'), (7, 'David', 'Austin', 'ICT', 'no', 210000, '', '2019-01-18'), (8, 'Diana', 'Lorentz', 'stratigy', 'yes', 200000, '', '2017-04-16'), (11, 'John', 'Chen', 'ICT', 'no', 240000, '', '2012-06-18'), (13, 'Kevin', 'Mourgos', 'ICT', 'no', 100000, '', '2014-02-01'), (9, 'Nancy', 'Greenberg', 'IT', 'no', 900000, '', '2014-02-16'), (4, 'Rania', 'Alageel', 'ICT', 'yes', 400000, '', '2019-05-17'), (3, 'Satish', 'Ernst', 'IT', 'no', 300000, '', '2015-02-12'), (14, 'Steven', 'Markle', 'ICT', 'no', 150000, '', '2014-08-12'), (15, 'Steven', 'Markle', 'ICT', 'no', 150000, '', '2011-06-11'), (2, 'Vipul', 'King', 'Admin', 'yes', 150000, '', '2014-05-12')]\n"
     ]
    }
   ],
   "source": [
    "# Q (9) Write an SQL query to print all Worker details from the Worker table order by FIRST_ NAME Ascending and DEPARTMENT Descending\n",
    "rows = cursor.execute(\"SELECT * FROM Worker ORDER BY FIRST_NAME ASC, DEPARTMENT DESC\").fetchall()\n",
    "print(rows)"
   ]
  },
  {
   "cell_type": "code",
   "execution_count": 37,
   "metadata": {},
   "outputs": [
    {
     "name": "stdout",
     "output_type": "stream",
     "text": [
      "[(1, 'Amitabh', 'Kochhar', 'ICT', 'yes', 200000, '', '2014-02-12'), (4, 'Rania', 'Alageel', 'ICT', 'yes', 400000, '', '2019-05-17'), (5, 'Alexander', 'Hunold', 'Admin', 'yes', 240000, '', '2014-02-22'), (6, 'Bruce', 'Ernst', 'IT', 'no', 290000, '', '2013-02-10'), (7, 'David', 'Austin', 'ICT', 'no', 210000, '', '2019-01-18'), (8, 'Diana', 'Lorentz', 'stratigy', 'yes', 200000, '', '2017-04-16'), (9, 'Nancy', 'Greenberg', 'IT', 'no', 900000, '', '2014-02-16'), (10, 'Daniel', 'Faviet', 'ICT', 'no', 10000, '', '2014-08-30'), (11, 'John', 'Chen', 'ICT', 'no', 240000, '', '2012-06-18'), (12, 'Alexander', 'Khoo', 'Security', 'yes', 500000, '', '2017-04-19'), (13, 'Kevin', 'Mourgos', 'ICT', 'no', 100000, '', '2014-02-01'), (14, 'Steven', 'Markle', 'ICT', 'no', 150000, '', '2014-08-12'), (15, 'Steven', 'Markle', 'ICT', 'no', 150000, '', '2011-06-11')]\n"
     ]
    }
   ],
   "source": [
    "# Q (10) Write an SQL query to print details of workers excluding first names, \"Vipul\" and \"Satish\" from the Worker table\n",
    "rows = cursor.execute(\"SELECT * FROM Worker WHERE FIRST_NAME NOT IN ('Vipul', 'Satish')\").fetchall()\n",
    "print(rows)"
   ]
  },
  {
   "cell_type": "code",
   "execution_count": 38,
   "metadata": {},
   "outputs": [
    {
     "name": "stdout",
     "output_type": "stream",
     "text": [
      "[(2, 'Vipul', 'King', 'Admin', 'yes', 150000, '', '2014-05-12'), (5, 'Alexander', 'Hunold', 'Admin', 'yes', 240000, '', '2014-02-22')]\n"
     ]
    }
   ],
   "source": [
    "# Q (11) Write an SOL query to print details of Workers with DEPARTMENT name as \"Admin\"\n",
    "rows = cursor.execute(\"SELECT * FROM Worker WHERE DEPARTMENT = 'Admin'\").fetchall()\n",
    "print(rows)"
   ]
  },
  {
   "cell_type": "code",
   "execution_count": 39,
   "metadata": {},
   "outputs": [
    {
     "name": "stdout",
     "output_type": "stream",
     "text": [
      "[(1, 'Amitabh', 'Kochhar', 'ICT', 'yes', 200000, '', '2014-02-12'), (3, 'Satish', 'Ernst', 'IT', 'no', 300000, '', '2015-02-12'), (4, 'Rania', 'Alageel', 'ICT', 'yes', 400000, '', '2019-05-17'), (5, 'Alexander', 'Hunold', 'Admin', 'yes', 240000, '', '2014-02-22'), (7, 'David', 'Austin', 'ICT', 'no', 210000, '', '2019-01-18'), (8, 'Diana', 'Lorentz', 'stratigy', 'yes', 200000, '', '2017-04-16'), (9, 'Nancy', 'Greenberg', 'IT', 'no', 900000, '', '2014-02-16'), (10, 'Daniel', 'Faviet', 'ICT', 'no', 10000, '', '2014-08-30'), (12, 'Alexander', 'Khoo', 'Security', 'yes', 500000, '', '2017-04-19')]\n"
     ]
    }
   ],
   "source": [
    "# Q (12) Write an SQL query to print details of the Workers whose FIRST NAME contains 'a'\n",
    "rows = cursor.execute(\"SELECT * FROM Worker WHERE FIRST_NAME LIKE '%a%'\").fetchall()\n",
    "print(rows)"
   ]
  },
  {
   "cell_type": "code",
   "execution_count": 40,
   "metadata": {},
   "outputs": [
    {
     "name": "stdout",
     "output_type": "stream",
     "text": [
      "[(1, 'Amitabh', 'Kochhar', 'ICT', 'yes', 200000, '', '2014-02-12'), (3, 'Satish', 'Ernst', 'IT', 'no', 300000, '', '2015-02-12')]\n"
     ]
    }
   ],
   "source": [
    "# Q (13) Write an SQL query to print details of the Workers whose FIRST NAME ends with 'h' and contains six alphabets\n",
    "rows = cursor.execute(\"SELECT * FROM Worker WHERE FIRST_NAME LIKE '%h'\").fetchall()\n",
    "print(rows)"
   ]
  },
  {
   "cell_type": "code",
   "execution_count": 59,
   "metadata": {},
   "outputs": [
    {
     "name": "stdout",
     "output_type": "stream",
     "text": [
      "[(1, 'Amitabh', 'Kochhar', 'ICT', 'yes', 200000, '', '2014-02-12'), (2, 'Vipul', 'King', 'Admin', 'yes', 150000, '', '2014-05-12'), (3, 'Satish', 'Ernst', 'IT', 'no', 300000, '', '2015-02-12'), (4, 'Rania', 'Alageel', 'ICT', 'yes', 400000, '', '2019-05-17'), (5, 'Alexander', 'Hunold', 'Admin', 'yes', 240000, '', '2014-02-22'), (6, 'Bruce', 'Ernst', 'IT', 'no', 290000, '', '2013-02-10'), (7, 'David', 'Austin', 'ICT', 'no', 210000, '', '2019-01-18'), (8, 'Diana', 'Lorentz', 'stratigy', 'yes', 200000, '', '2017-04-16'), (11, 'John', 'Chen', 'ICT', 'no', 240000, '', '2012-06-18'), (12, 'Alexander', 'Khoo', 'Security', 'yes', 500000, '', '2017-04-19'), (13, 'Kevin', 'Mourgos', 'ICT', 'no', 100000, '', '2014-02-01'), (14, 'Steven', 'Markle', 'ICT', 'no', 150000, '', '2014-08-12'), (15, 'Steven', 'Markle', 'ICT', 'no', 150000, '', '2011-06-11')]\n"
     ]
    }
   ],
   "source": [
    "# Q (14) Write an SQL query to print details of the Workers Whose SALARY lies detween 100000 and 500000\n",
    "rows = cursor.execute(\"SELECT * FROM Worker WHERE SALARY BETWEEN 100000 AND 500000\").fetchall()\n",
    "print(rows)"
   ]
  },
  {
   "cell_type": "code",
   "execution_count": 42,
   "metadata": {},
   "outputs": [
    {
     "name": "stdout",
     "output_type": "stream",
     "text": [
      "[(1, 'Amitabh', 'Kochhar', 'ICT', 'yes', 200000, '', '2014-02-12'), (5, 'Alexander', 'Hunold', 'Admin', 'yes', 240000, '', '2014-02-22'), (9, 'Nancy', 'Greenberg', 'IT', 'no', 900000, '', '2014-02-16'), (13, 'Kevin', 'Mourgos', 'ICT', 'no', 100000, '', '2014-02-01')]\n"
     ]
    }
   ],
   "source": [
    "# Q (15) Write an SQL query to print details of the Workers who joined in Feb'2014\n",
    "rows = cursor.execute(\"SELECT * FROM Worker WHERE join_date LIKE '2014-02%'\").fetchall()\n",
    "print(rows)"
   ]
  },
  {
   "cell_type": "code",
   "execution_count": 43,
   "metadata": {},
   "outputs": [
    {
     "name": "stdout",
     "output_type": "stream",
     "text": [
      "[(13, 'Kevin', 'Mourgos', 'ICT', 'no', 100000, '', '2014-02-01')]\n"
     ]
    }
   ],
   "source": [
    "# Q (16) Write an SQL query to fetch worker names with salaries >= 50000 and <= 100000\n",
    "rows = cursor.execute(\"SELECT * FROM Worker WHERE salary BETWEEN 50000 AND 100000\").fetchall()\n",
    "print(rows)"
   ]
  },
  {
   "cell_type": "code",
   "execution_count": 44,
   "metadata": {},
   "outputs": [
    {
     "name": "stdout",
     "output_type": "stream",
     "text": [
      "[(1, 'Amitabh', 'Kochhar', 'ICT', 'yes', 200000, '', '2014-02-12'), (2, 'Vipul', 'King', 'Admin', 'yes', 150000, '', '2014-05-12'), (4, 'Rania', 'Alageel', 'ICT', 'yes', 400000, '', '2019-05-17'), (5, 'Alexander', 'Hunold', 'Admin', 'yes', 240000, '', '2014-02-22'), (8, 'Diana', 'Lorentz', 'stratigy', 'yes', 200000, '', '2017-04-16'), (12, 'Alexander', 'Khoo', 'Security', 'yes', 500000, '', '2017-04-19')]\n"
     ]
    }
   ],
   "source": [
    "# Q (17) Write an SQL query to print details of the Workers who are also Managers\n",
    "rows = cursor.execute(\"SELECT * FROM Worker WHERE MANAGER = 'yes'\").fetchall()\n",
    "print(rows)"
   ]
  },
  {
   "cell_type": "code",
   "execution_count": 58,
   "metadata": {},
   "outputs": [
    {
     "name": "stdout",
     "output_type": "stream",
     "text": [
      "[('Steven', 'Markle', 2)]\n"
     ]
    }
   ],
   "source": [
    "# Q (18) Write an SQL query to fetch duplicate records having matching data in some fields of a table\n",
    "rows = cursor.execute(\"SELECT FIRST_NAME, LAST_NAME, COUNT(*) FROM Worker GROUP BY FIRST_NAME, LAST_NAME HAVING COUNT(*) > 1\").fetchall()\n",
    "print(rows)"
   ]
  },
  {
   "cell_type": "code",
   "execution_count": 61,
   "metadata": {},
   "outputs": [
    {
     "name": "stdout",
     "output_type": "stream",
     "text": [
      "[(1, 'Amitabh', 'Kochhar', 'ICT', 'yes', 200000, '', '2014-02-12'), (2, 'Vipul', 'King', 'Admin', 'yes', 150000, '', '2014-05-12'), (3, 'Satish', 'Ernst', 'IT', 'no', 300000, '', '2015-02-12'), (4, 'Rania', 'Alageel', 'ICT', 'yes', 400000, '', '2019-05-17'), (5, 'Alexander', 'Hunold', 'Admin', 'yes', 240000, '', '2014-02-22'), (6, 'Bruce', 'Ernst', 'IT', 'no', 290000, '', '2013-02-10'), (7, 'David', 'Austin', 'ICT', 'no', 210000, '', '2019-01-18'), (8, 'Diana', 'Lorentz', 'stratigy', 'yes', 200000, '', '2017-04-16'), (9, 'Nancy', 'Greenberg', 'IT', 'no', 900000, '', '2014-02-16'), (10, 'Daniel', 'Faviet', 'ICT', 'no', 10000, '', '2014-08-30')]\n"
     ]
    }
   ],
   "source": [
    "# Q (19) Write an SQL query to show the top n (say 10) records of a table\n",
    "rows = cursor.execute(\"SELECT * FROM Worker ORDER BY ID ASC LIMIT 10\").fetchall()\n",
    "print(rows)"
   ]
  },
  {
   "cell_type": "code",
   "execution_count": 57,
   "metadata": {},
   "outputs": [
    {
     "name": "stdout",
     "output_type": "stream",
     "text": [
      "[(6, 'Bruce', 'Ernst', 'IT', 'no', 290000, '', '2013-02-10', 5)]\n"
     ]
    }
   ],
   "source": [
    "# Q (20) Write an SQL query to determine the nth (say n=5) highest salary from a table\n",
    "rows = cursor.execute(\"SELECT * FROM (SELECT e.*, ROW_NUMBER() OVER (ORDER BY SALARY DESC) rn FROM Worker e)WHERE rn = 5; \").fetchall()\n",
    "print(rows)"
   ]
  },
  {
   "cell_type": "code",
   "execution_count": 62,
   "metadata": {},
   "outputs": [
    {
     "name": "stdout",
     "output_type": "stream",
     "text": [
      "[(1,)]\n"
     ]
    }
   ],
   "source": [
    "from contextlib import closing\n",
    "\n",
    "with closing(sqlite3.connect(\"MyDatabase.db\")) as connection:\n",
    "    with closing(connection.cursor()) as cursor:\n",
    "        rows = cursor.execute(\"SELECT 1\").fetchall()\n",
    "        print(rows)"
   ]
  },
  {
   "cell_type": "code",
   "execution_count": null,
   "metadata": {},
   "outputs": [],
   "source": []
  },
  {
   "cell_type": "code",
   "execution_count": null,
   "metadata": {},
   "outputs": [],
   "source": []
  },
  {
   "cell_type": "code",
   "execution_count": null,
   "metadata": {},
   "outputs": [],
   "source": []
  }
 ],
 "metadata": {
  "kernelspec": {
   "display_name": "base",
   "language": "python",
   "name": "python3"
  },
  "language_info": {
   "codemirror_mode": {
    "name": "ipython",
    "version": 3
   },
   "file_extension": ".py",
   "mimetype": "text/x-python",
   "name": "python",
   "nbconvert_exporter": "python",
   "pygments_lexer": "ipython3",
   "version": "3.8.16"
  },
  "orig_nbformat": 4
 },
 "nbformat": 4,
 "nbformat_minor": 2
}
